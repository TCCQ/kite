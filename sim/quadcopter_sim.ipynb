{
 "cells": [
  {
   "cell_type": "code",
   "execution_count": 16,
   "id": "8a07481b-b066-499d-b39c-9a2859259dc6",
   "metadata": {},
   "outputs": [
    {
     "data": {
      "text/plain": [
       "(x, y, z, phi, theta, psi, omega, R)"
      ]
     },
     "execution_count": 16,
     "metadata": {},
     "output_type": "execute_result"
    }
   ],
   "source": [
    "var(['x', 'y', 'z', 'phi', 'theta', 'psi', 'omega', 'R'])"
   ]
  },
  {
   "cell_type": "code",
   "execution_count": 14,
   "id": "c78864a2-6906-41e0-b12f-1d0a7783d386",
   "metadata": {},
   "outputs": [
    {
     "data": {
      "text/html": [
       "<html>\\(\\displaystyle \\left(\\begin{array}{rrr}\n",
       "1 & 0 & -\\sin\\left(\\theta\\right) \\\\\n",
       "0 & \\cos\\left(\\phi\\right) & \\cos\\left(\\theta\\right) \\sin\\left(\\phi\\right) \\\\\n",
       "0 & -\\sin\\left(\\phi\\right) & \\cos\\left(\\phi\\right) \\cos\\left(\\theta\\right)\n",
       "\\end{array}\\right)\\)</html>"
      ],
      "text/latex": [
       "$\\displaystyle \\left(\\begin{array}{rrr}\n",
       "1 & 0 & -\\sin\\left(\\theta\\right) \\\\\n",
       "0 & \\cos\\left(\\phi\\right) & \\cos\\left(\\theta\\right) \\sin\\left(\\phi\\right) \\\\\n",
       "0 & -\\sin\\left(\\phi\\right) & \\cos\\left(\\phi\\right) \\cos\\left(\\theta\\right)\n",
       "\\end{array}\\right)$"
      ],
      "text/plain": [
       "[                  1                   0         -sin(theta)]\n",
       "[                  0            cos(phi) cos(theta)*sin(phi)]\n",
       "[                  0           -sin(phi) cos(phi)*cos(theta)]"
      ]
     },
     "metadata": {},
     "output_type": "display_data"
    }
   ],
   "source": [
    "omega = Matrix([[1,0,-1*sin(theta)],\n",
    "                [0, cos(phi), cos(theta)*sin(phi)],\n",
    "                [0, -1*sin(phi), cos(theta)*cos(phi)]])\n",
    "show(omega)"
   ]
  },
  {
   "cell_type": "code",
   "execution_count": 17,
   "id": "7c7d15fd-6be8-4880-b83d-9a2aebd519d3",
   "metadata": {},
   "outputs": [
    {
     "data": {
      "text/html": [
       "<html>\\(\\displaystyle \\left(\\begin{array}{rrr}\n",
       "-\\cos\\left(\\theta\\right) \\sin\\left(\\phi\\right) \\sin\\left(\\psi\\right) + \\cos\\left(\\phi\\right) \\cos\\left(\\psi\\right) & -\\cos\\left(\\phi\\right) \\cos\\left(\\theta\\right) \\sin\\left(\\psi\\right) - \\cos\\left(\\psi\\right) \\sin\\left(\\phi\\right) & \\sin\\left(\\psi\\right) \\sin\\left(\\theta\\right) \\\\\n",
       "\\cos\\left(\\psi\\right) \\cos\\left(\\theta\\right) \\sin\\left(\\phi\\right) + \\cos\\left(\\phi\\right) \\sin\\left(\\psi\\right) & \\cos\\left(\\phi\\right) \\cos\\left(\\psi\\right) \\cos\\left(\\theta\\right) - \\sin\\left(\\phi\\right) \\sin\\left(\\psi\\right) & -\\cos\\left(\\psi\\right) \\sin\\left(\\theta\\right) \\\\\n",
       "\\sin\\left(\\phi\\right) \\sin\\left(\\theta\\right) & \\cos\\left(\\phi\\right) \\sin\\left(\\theta\\right) & \\cos\\left(\\theta\\right)\n",
       "\\end{array}\\right)\\)</html>"
      ],
      "text/latex": [
       "$\\displaystyle \\left(\\begin{array}{rrr}\n",
       "-\\cos\\left(\\theta\\right) \\sin\\left(\\phi\\right) \\sin\\left(\\psi\\right) + \\cos\\left(\\phi\\right) \\cos\\left(\\psi\\right) & -\\cos\\left(\\phi\\right) \\cos\\left(\\theta\\right) \\sin\\left(\\psi\\right) - \\cos\\left(\\psi\\right) \\sin\\left(\\phi\\right) & \\sin\\left(\\psi\\right) \\sin\\left(\\theta\\right) \\\\\n",
       "\\cos\\left(\\psi\\right) \\cos\\left(\\theta\\right) \\sin\\left(\\phi\\right) + \\cos\\left(\\phi\\right) \\sin\\left(\\psi\\right) & \\cos\\left(\\phi\\right) \\cos\\left(\\psi\\right) \\cos\\left(\\theta\\right) - \\sin\\left(\\phi\\right) \\sin\\left(\\psi\\right) & -\\cos\\left(\\psi\\right) \\sin\\left(\\theta\\right) \\\\\n",
       "\\sin\\left(\\phi\\right) \\sin\\left(\\theta\\right) & \\cos\\left(\\phi\\right) \\sin\\left(\\theta\\right) & \\cos\\left(\\theta\\right)\n",
       "\\end{array}\\right)$"
      ],
      "text/plain": [
       "[-cos(theta)*sin(phi)*sin(psi) + cos(phi)*cos(psi) -cos(phi)*cos(theta)*sin(psi) - cos(psi)*sin(phi)                               sin(psi)*sin(theta)]\n",
       "[ cos(psi)*cos(theta)*sin(phi) + cos(phi)*sin(psi)  cos(phi)*cos(psi)*cos(theta) - sin(phi)*sin(psi)                              -cos(psi)*sin(theta)]\n",
       "[                              sin(phi)*sin(theta)                               cos(phi)*sin(theta)                                        cos(theta)]"
      ]
     },
     "metadata": {},
     "output_type": "display_data"
    }
   ],
   "source": [
    "R = Matrix([[cos(phi)*cos(psi)-cos(theta)*sin(phi)*sin(psi), -1*cos(psi)*sin(phi) - cos(phi)*cos(theta)*sin(psi), sin(theta)*sin(psi)],\n",
    "            [cos(theta)*cos(psi)*sin(phi) + cos(phi)*sin(psi), cos(phi)*cos(theta)*cos(psi)-sin(phi)*sin(psi), -1*cos(psi)*sin(theta)],\n",
    "            [sin(phi)*sin(theta), cos(phi)*sin(theta), cos(theta)]])\n",
    "show(R)"
   ]
  },
  {
   "cell_type": "code",
   "execution_count": 33,
   "id": "7de13880-a04f-49be-911a-bc0990fe9779",
   "metadata": {},
   "outputs": [
    {
     "data": {
      "text/plain": [
       "(K_t, I_0, current, K_v, omega_m)"
      ]
     },
     "execution_count": 33,
     "metadata": {},
     "output_type": "execute_result"
    }
   ],
   "source": [
    "var(['K_t', 'I_0', 'current', 'K_v', 'omega_m'])"
   ]
  },
  {
   "cell_type": "code",
   "execution_count": 30,
   "id": "2108c51d-a528-4878-9332-c78aa54319ab",
   "metadata": {},
   "outputs": [
    {
     "data": {
      "text/html": [
       "<html>\\(\\displaystyle \\mathit{current} \\ {\\mapsto}\\ -{\\left(I_{0} - \\mathit{current}\\right)} K_{t}\\)</html>"
      ],
      "text/latex": [
       "$\\displaystyle \\mathit{current} \\ {\\mapsto}\\ -{\\left(I_{0} - \\mathit{current}\\right)} K_{t}$"
      ],
      "text/plain": [
       "current |--> -(I_0 - current)*K_t"
      ]
     },
     "metadata": {},
     "output_type": "display_data"
    }
   ],
   "source": [
    "tau(current) = K_t*(current - I_0)\n",
    "show(tau)"
   ]
  },
  {
   "cell_type": "code",
   "execution_count": 37,
   "id": "663b4f04-5817-4e2e-9a13-96371ba532b9",
   "metadata": {},
   "outputs": [
    {
     "data": {
      "text/html": [
       "<html>\\(\\displaystyle \\mathit{current} \\ {\\mapsto}\\ -{\\left(I_{0} - \\mathit{current}\\right)} K_{v} \\omega_{m}\\)</html>"
      ],
      "text/latex": [
       "$\\displaystyle \\mathit{current} \\ {\\mapsto}\\ -{\\left(I_{0} - \\mathit{current}\\right)} K_{v} \\omega_{m}$"
      ],
      "text/plain": [
       "current |--> -(I_0 - current)*K_v*omega_m"
      ]
     },
     "metadata": {},
     "output_type": "display_data"
    }
   ],
   "source": [
    "P_m(current) = (K_v / K_t)*omega_m*tau(current)\n",
    "show(P_m)"
   ]
  },
  {
   "cell_type": "code",
   "execution_count": null,
   "id": "78497465-f6df-4933-a832-d90880cbf389",
   "metadata": {},
   "outputs": [],
   "source": []
  }
 ],
 "metadata": {
  "kernelspec": {
   "display_name": "SageMath 10.3",
   "language": "sage",
   "name": "sagemath"
  },
  "language_info": {
   "codemirror_mode": {
    "name": "ipython",
    "version": 3
   },
   "file_extension": ".py",
   "mimetype": "text/x-python",
   "name": "python",
   "nbconvert_exporter": "python",
   "pygments_lexer": "ipython3",
   "version": "3.12.3"
  }
 },
 "nbformat": 4,
 "nbformat_minor": 5
}
